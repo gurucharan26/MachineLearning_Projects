{
 "cells": [
  {
   "cell_type": "markdown",
   "id": "f14048fa",
   "metadata": {},
   "source": [
    "   # STOCK PRICE PREDICTION USING MACHINE LEARNING [LSTM]\n"
   ]
  },
  {
   "cell_type": "markdown",
   "id": "00086068",
   "metadata": {},
   "source": [
    "<img src=\"sm3.jpg\" style =\"width:700px; height:350px \"/>"
   ]
  },
  {
   "cell_type": "markdown",
   "id": "bc269574",
   "metadata": {},
   "source": [
    "# Project Objective :-"
   ]
  },
  {
   "cell_type": "markdown",
   "id": "f1712aaa",
   "metadata": {},
   "source": [
    "###  AIM : To predict the future closing value of a given stock across a given period of time using Machine Learning Technique\n",
    "                      "
   ]
  },
  {
   "cell_type": "markdown",
   "id": "cbb93131",
   "metadata": {},
   "source": [
    "## Importing Required Libraries:\n",
    "\n",
    "Firstly , we are installing the required libraries for our project and importing them in the Jupyter notebook\n",
    "\n"
   ]
  },
  {
   "cell_type": "code",
   "execution_count": 1,
   "id": "eddc779f",
   "metadata": {},
   "outputs": [],
   "source": [
    "#Importing the Required Libraries\n",
    "\n",
    "import pandas as pd\n",
    "import matplotlib.pyplot as plt\n",
    "import numpy as np \n",
    "import seaborn as sns\n",
    "import math\n",
    "from sklearn.preprocessing import MinMaxScaler\n",
    "from sklearn.metrics import mean_squared_error\n",
    "from tensorflow.keras.models import Sequential\n",
    "from tensorflow.keras.layers import Dense\n",
    "from tensorflow.keras.layers import LSTM"
   ]
  },
  {
   "cell_type": "markdown",
   "id": "15811c16",
   "metadata": {},
   "source": [
    "## Collecting Dataset \n",
    "\n",
    "In this step we have downloaded the \"ITC\" companies dataset from Kaggle Website and imported it into our Notebook using Pandas Library"
   ]
  },
  {
   "cell_type": "code",
   "execution_count": 2,
   "id": "a87ea5f3",
   "metadata": {},
   "outputs": [],
   "source": [
    "#Converting CSV file into a dataframe\n",
    "\n",
    "df = pd.read_csv(\"MARUTI.NS.csv\")"
   ]
  },
  {
   "cell_type": "code",
   "execution_count": 3,
   "id": "b63f8adb",
   "metadata": {},
   "outputs": [
    {
     "data": {
      "text/html": [
       "<div>\n",
       "<style scoped>\n",
       "    .dataframe tbody tr th:only-of-type {\n",
       "        vertical-align: middle;\n",
       "    }\n",
       "\n",
       "    .dataframe tbody tr th {\n",
       "        vertical-align: top;\n",
       "    }\n",
       "\n",
       "    .dataframe thead th {\n",
       "        text-align: right;\n",
       "    }\n",
       "</style>\n",
       "<table border=\"1\" class=\"dataframe\">\n",
       "  <thead>\n",
       "    <tr style=\"text-align: right;\">\n",
       "      <th></th>\n",
       "      <th>Date</th>\n",
       "      <th>Open</th>\n",
       "      <th>High</th>\n",
       "      <th>Low</th>\n",
       "      <th>Close</th>\n",
       "      <th>Adj Close</th>\n",
       "      <th>Volume</th>\n",
       "    </tr>\n",
       "  </thead>\n",
       "  <tbody>\n",
       "    <tr>\n",
       "      <th>0</th>\n",
       "      <td>2003-07-09</td>\n",
       "      <td>164.899994</td>\n",
       "      <td>170.399994</td>\n",
       "      <td>155.000000</td>\n",
       "      <td>164.300003</td>\n",
       "      <td>144.897507</td>\n",
       "      <td>35164284.0</td>\n",
       "    </tr>\n",
       "    <tr>\n",
       "      <th>1</th>\n",
       "      <td>2003-07-10</td>\n",
       "      <td>167.000000</td>\n",
       "      <td>168.699997</td>\n",
       "      <td>164.500000</td>\n",
       "      <td>167.000000</td>\n",
       "      <td>147.278656</td>\n",
       "      <td>10464179.0</td>\n",
       "    </tr>\n",
       "    <tr>\n",
       "      <th>2</th>\n",
       "      <td>2003-07-11</td>\n",
       "      <td>167.750000</td>\n",
       "      <td>174.850006</td>\n",
       "      <td>166.250000</td>\n",
       "      <td>173.350006</td>\n",
       "      <td>152.878799</td>\n",
       "      <td>11740117.0</td>\n",
       "    </tr>\n",
       "    <tr>\n",
       "      <th>3</th>\n",
       "      <td>2003-07-14</td>\n",
       "      <td>174.250000</td>\n",
       "      <td>179.250000</td>\n",
       "      <td>174.250000</td>\n",
       "      <td>177.949997</td>\n",
       "      <td>156.935577</td>\n",
       "      <td>5982324.0</td>\n",
       "    </tr>\n",
       "    <tr>\n",
       "      <th>4</th>\n",
       "      <td>2003-07-15</td>\n",
       "      <td>200.000000</td>\n",
       "      <td>200.000000</td>\n",
       "      <td>173.000000</td>\n",
       "      <td>176.199997</td>\n",
       "      <td>155.392197</td>\n",
       "      <td>6173689.0</td>\n",
       "    </tr>\n",
       "    <tr>\n",
       "      <th>...</th>\n",
       "      <td>...</td>\n",
       "      <td>...</td>\n",
       "      <td>...</td>\n",
       "      <td>...</td>\n",
       "      <td>...</td>\n",
       "      <td>...</td>\n",
       "      <td>...</td>\n",
       "    </tr>\n",
       "    <tr>\n",
       "      <th>4548</th>\n",
       "      <td>2021-11-02</td>\n",
       "      <td>7647.950195</td>\n",
       "      <td>7910.000000</td>\n",
       "      <td>7630.799805</td>\n",
       "      <td>7791.750000</td>\n",
       "      <td>7791.750000</td>\n",
       "      <td>1302733.0</td>\n",
       "    </tr>\n",
       "    <tr>\n",
       "      <th>4549</th>\n",
       "      <td>2021-11-03</td>\n",
       "      <td>7791.750000</td>\n",
       "      <td>7842.250000</td>\n",
       "      <td>7711.600098</td>\n",
       "      <td>7734.250000</td>\n",
       "      <td>7734.250000</td>\n",
       "      <td>656492.0</td>\n",
       "    </tr>\n",
       "    <tr>\n",
       "      <th>4550</th>\n",
       "      <td>2021-11-04</td>\n",
       "      <td>7774.700195</td>\n",
       "      <td>7819.950195</td>\n",
       "      <td>7735.500000</td>\n",
       "      <td>7747.399902</td>\n",
       "      <td>7747.399902</td>\n",
       "      <td>53365.0</td>\n",
       "    </tr>\n",
       "    <tr>\n",
       "      <th>4551</th>\n",
       "      <td>2021-11-08</td>\n",
       "      <td>7759.950195</td>\n",
       "      <td>7882.600098</td>\n",
       "      <td>7672.000000</td>\n",
       "      <td>7684.600098</td>\n",
       "      <td>7684.600098</td>\n",
       "      <td>428433.0</td>\n",
       "    </tr>\n",
       "    <tr>\n",
       "      <th>4552</th>\n",
       "      <td>2021-11-09</td>\n",
       "      <td>7709.000000</td>\n",
       "      <td>7764.500000</td>\n",
       "      <td>7538.700195</td>\n",
       "      <td>7577.549805</td>\n",
       "      <td>7577.549805</td>\n",
       "      <td>632879.0</td>\n",
       "    </tr>\n",
       "  </tbody>\n",
       "</table>\n",
       "<p>4553 rows × 7 columns</p>\n",
       "</div>"
      ],
      "text/plain": [
       "            Date         Open         High          Low        Close  \\\n",
       "0     2003-07-09   164.899994   170.399994   155.000000   164.300003   \n",
       "1     2003-07-10   167.000000   168.699997   164.500000   167.000000   \n",
       "2     2003-07-11   167.750000   174.850006   166.250000   173.350006   \n",
       "3     2003-07-14   174.250000   179.250000   174.250000   177.949997   \n",
       "4     2003-07-15   200.000000   200.000000   173.000000   176.199997   \n",
       "...          ...          ...          ...          ...          ...   \n",
       "4548  2021-11-02  7647.950195  7910.000000  7630.799805  7791.750000   \n",
       "4549  2021-11-03  7791.750000  7842.250000  7711.600098  7734.250000   \n",
       "4550  2021-11-04  7774.700195  7819.950195  7735.500000  7747.399902   \n",
       "4551  2021-11-08  7759.950195  7882.600098  7672.000000  7684.600098   \n",
       "4552  2021-11-09  7709.000000  7764.500000  7538.700195  7577.549805   \n",
       "\n",
       "        Adj Close      Volume  \n",
       "0      144.897507  35164284.0  \n",
       "1      147.278656  10464179.0  \n",
       "2      152.878799  11740117.0  \n",
       "3      156.935577   5982324.0  \n",
       "4      155.392197   6173689.0  \n",
       "...           ...         ...  \n",
       "4548  7791.750000   1302733.0  \n",
       "4549  7734.250000    656492.0  \n",
       "4550  7747.399902     53365.0  \n",
       "4551  7684.600098    428433.0  \n",
       "4552  7577.549805    632879.0  \n",
       "\n",
       "[4553 rows x 7 columns]"
      ]
     },
     "execution_count": 3,
     "metadata": {},
     "output_type": "execute_result"
    }
   ],
   "source": [
    "#View of the entire data\n",
    "\n",
    "df"
   ]
  },
  {
   "cell_type": "code",
   "execution_count": 4,
   "id": "178baca0",
   "metadata": {},
   "outputs": [],
   "source": [
    "pd.options.mode.chained_assignment = None"
   ]
  },
  {
   "cell_type": "markdown",
   "id": "f0496261",
   "metadata": {},
   "source": [
    "## Data Cleaning and Data Discretization \n",
    "\n",
    "In this step we are removing the data that is not required for our analysis and checking the integrity of Data"
   ]
  },
  {
   "cell_type": "code",
   "execution_count": 5,
   "id": "c677e986",
   "metadata": {},
   "outputs": [],
   "source": [
    "df.drop([\"Adj Close\",\"Volume\"],inplace = True , axis = 1)"
   ]
  },
  {
   "cell_type": "code",
   "execution_count": 6,
   "id": "f745fde5",
   "metadata": {},
   "outputs": [
    {
     "name": "stdout",
     "output_type": "stream",
     "text": [
      "<class 'pandas.core.frame.DataFrame'>\n",
      "RangeIndex: 4553 entries, 0 to 4552\n",
      "Data columns (total 5 columns):\n",
      " #   Column  Non-Null Count  Dtype  \n",
      "---  ------  --------------  -----  \n",
      " 0   Date    4553 non-null   object \n",
      " 1   Open    4539 non-null   float64\n",
      " 2   High    4539 non-null   float64\n",
      " 3   Low     4539 non-null   float64\n",
      " 4   Close   4539 non-null   float64\n",
      "dtypes: float64(4), object(1)\n",
      "memory usage: 178.0+ KB\n"
     ]
    }
   ],
   "source": [
    "#Basic Information about Columns in the dataset\n",
    "\n",
    "df.info()"
   ]
  },
  {
   "cell_type": "code",
   "execution_count": 7,
   "id": "5de4af1e",
   "metadata": {},
   "outputs": [
    {
     "data": {
      "text/html": [
       "<div>\n",
       "<style scoped>\n",
       "    .dataframe tbody tr th:only-of-type {\n",
       "        vertical-align: middle;\n",
       "    }\n",
       "\n",
       "    .dataframe tbody tr th {\n",
       "        vertical-align: top;\n",
       "    }\n",
       "\n",
       "    .dataframe thead th {\n",
       "        text-align: right;\n",
       "    }\n",
       "</style>\n",
       "<table border=\"1\" class=\"dataframe\">\n",
       "  <thead>\n",
       "    <tr style=\"text-align: right;\">\n",
       "      <th></th>\n",
       "      <th>Open</th>\n",
       "      <th>High</th>\n",
       "      <th>Low</th>\n",
       "      <th>Close</th>\n",
       "    </tr>\n",
       "  </thead>\n",
       "  <tbody>\n",
       "    <tr>\n",
       "      <th>count</th>\n",
       "      <td>4539.000000</td>\n",
       "      <td>4539.000000</td>\n",
       "      <td>4539.000000</td>\n",
       "      <td>4539.000000</td>\n",
       "    </tr>\n",
       "    <tr>\n",
       "      <th>mean</th>\n",
       "      <td>3045.889031</td>\n",
       "      <td>3082.088503</td>\n",
       "      <td>3006.345756</td>\n",
       "      <td>3043.183134</td>\n",
       "    </tr>\n",
       "    <tr>\n",
       "      <th>std</th>\n",
       "      <td>2798.850948</td>\n",
       "      <td>2823.984933</td>\n",
       "      <td>2768.752799</td>\n",
       "      <td>2794.477043</td>\n",
       "    </tr>\n",
       "    <tr>\n",
       "      <th>min</th>\n",
       "      <td>164.000000</td>\n",
       "      <td>168.699997</td>\n",
       "      <td>155.000000</td>\n",
       "      <td>164.300003</td>\n",
       "    </tr>\n",
       "    <tr>\n",
       "      <th>25%</th>\n",
       "      <td>831.475006</td>\n",
       "      <td>845.000000</td>\n",
       "      <td>813.524994</td>\n",
       "      <td>830.975006</td>\n",
       "    </tr>\n",
       "    <tr>\n",
       "      <th>50%</th>\n",
       "      <td>1437.000000</td>\n",
       "      <td>1459.900024</td>\n",
       "      <td>1413.000000</td>\n",
       "      <td>1436.900024</td>\n",
       "    </tr>\n",
       "    <tr>\n",
       "      <th>75%</th>\n",
       "      <td>5698.475098</td>\n",
       "      <td>5750.899902</td>\n",
       "      <td>5646.899902</td>\n",
       "      <td>5690.150147</td>\n",
       "    </tr>\n",
       "    <tr>\n",
       "      <th>max</th>\n",
       "      <td>9966.000000</td>\n",
       "      <td>9996.400391</td>\n",
       "      <td>9725.000000</td>\n",
       "      <td>9832.450195</td>\n",
       "    </tr>\n",
       "  </tbody>\n",
       "</table>\n",
       "</div>"
      ],
      "text/plain": [
       "              Open         High          Low        Close\n",
       "count  4539.000000  4539.000000  4539.000000  4539.000000\n",
       "mean   3045.889031  3082.088503  3006.345756  3043.183134\n",
       "std    2798.850948  2823.984933  2768.752799  2794.477043\n",
       "min     164.000000   168.699997   155.000000   164.300003\n",
       "25%     831.475006   845.000000   813.524994   830.975006\n",
       "50%    1437.000000  1459.900024  1413.000000  1436.900024\n",
       "75%    5698.475098  5750.899902  5646.899902  5690.150147\n",
       "max    9966.000000  9996.400391  9725.000000  9832.450195"
      ]
     },
     "execution_count": 7,
     "metadata": {},
     "output_type": "execute_result"
    }
   ],
   "source": [
    "#Statistical Information of data\n",
    "\n",
    "df.describe()"
   ]
  },
  {
   "cell_type": "code",
   "execution_count": 8,
   "id": "60937bec",
   "metadata": {},
   "outputs": [
    {
     "data": {
      "text/plain": [
       "Date     False\n",
       "Open      True\n",
       "High      True\n",
       "Low       True\n",
       "Close     True\n",
       "dtype: bool"
      ]
     },
     "execution_count": 8,
     "metadata": {},
     "output_type": "execute_result"
    }
   ],
   "source": [
    "#Checking if there are any Null or NA values \n",
    "\n",
    "df.isna().any()"
   ]
  },
  {
   "cell_type": "code",
   "execution_count": 9,
   "id": "8b38f277",
   "metadata": {},
   "outputs": [
    {
     "data": {
      "text/plain": [
       "Date     False\n",
       "Open      True\n",
       "High      True\n",
       "Low       True\n",
       "Close     True\n",
       "dtype: bool"
      ]
     },
     "execution_count": 9,
     "metadata": {},
     "output_type": "execute_result"
    }
   ],
   "source": [
    "df.isnull().any()"
   ]
  },
  {
   "cell_type": "code",
   "execution_count": 10,
   "id": "57e15f77",
   "metadata": {},
   "outputs": [
    {
     "data": {
      "text/html": [
       "<div>\n",
       "<style scoped>\n",
       "    .dataframe tbody tr th:only-of-type {\n",
       "        vertical-align: middle;\n",
       "    }\n",
       "\n",
       "    .dataframe tbody tr th {\n",
       "        vertical-align: top;\n",
       "    }\n",
       "\n",
       "    .dataframe thead th {\n",
       "        text-align: right;\n",
       "    }\n",
       "</style>\n",
       "<table border=\"1\" class=\"dataframe\">\n",
       "  <thead>\n",
       "    <tr style=\"text-align: right;\">\n",
       "      <th></th>\n",
       "      <th>Date</th>\n",
       "      <th>Open</th>\n",
       "      <th>High</th>\n",
       "      <th>Low</th>\n",
       "      <th>Close</th>\n",
       "    </tr>\n",
       "  </thead>\n",
       "  <tbody>\n",
       "    <tr>\n",
       "      <th>1617</th>\n",
       "      <td>2009-12-23</td>\n",
       "      <td>NaN</td>\n",
       "      <td>NaN</td>\n",
       "      <td>NaN</td>\n",
       "      <td>NaN</td>\n",
       "    </tr>\n",
       "    <tr>\n",
       "      <th>1618</th>\n",
       "      <td>2009-12-24</td>\n",
       "      <td>NaN</td>\n",
       "      <td>NaN</td>\n",
       "      <td>NaN</td>\n",
       "      <td>NaN</td>\n",
       "    </tr>\n",
       "    <tr>\n",
       "      <th>1619</th>\n",
       "      <td>2009-12-29</td>\n",
       "      <td>NaN</td>\n",
       "      <td>NaN</td>\n",
       "      <td>NaN</td>\n",
       "      <td>NaN</td>\n",
       "    </tr>\n",
       "    <tr>\n",
       "      <th>1620</th>\n",
       "      <td>2009-12-30</td>\n",
       "      <td>NaN</td>\n",
       "      <td>NaN</td>\n",
       "      <td>NaN</td>\n",
       "      <td>NaN</td>\n",
       "    </tr>\n",
       "    <tr>\n",
       "      <th>1621</th>\n",
       "      <td>2009-12-31</td>\n",
       "      <td>NaN</td>\n",
       "      <td>NaN</td>\n",
       "      <td>NaN</td>\n",
       "      <td>NaN</td>\n",
       "    </tr>\n",
       "    <tr>\n",
       "      <th>1646</th>\n",
       "      <td>2010-02-06</td>\n",
       "      <td>NaN</td>\n",
       "      <td>NaN</td>\n",
       "      <td>NaN</td>\n",
       "      <td>NaN</td>\n",
       "    </tr>\n",
       "    <tr>\n",
       "      <th>2124</th>\n",
       "      <td>2012-01-07</td>\n",
       "      <td>NaN</td>\n",
       "      <td>NaN</td>\n",
       "      <td>NaN</td>\n",
       "      <td>NaN</td>\n",
       "    </tr>\n",
       "    <tr>\n",
       "      <th>2163</th>\n",
       "      <td>2012-03-03</td>\n",
       "      <td>NaN</td>\n",
       "      <td>NaN</td>\n",
       "      <td>NaN</td>\n",
       "      <td>NaN</td>\n",
       "    </tr>\n",
       "    <tr>\n",
       "      <th>2293</th>\n",
       "      <td>2012-09-08</td>\n",
       "      <td>NaN</td>\n",
       "      <td>NaN</td>\n",
       "      <td>NaN</td>\n",
       "      <td>NaN</td>\n",
       "    </tr>\n",
       "    <tr>\n",
       "      <th>2335</th>\n",
       "      <td>2012-11-11</td>\n",
       "      <td>NaN</td>\n",
       "      <td>NaN</td>\n",
       "      <td>NaN</td>\n",
       "      <td>NaN</td>\n",
       "    </tr>\n",
       "    <tr>\n",
       "      <th>2672</th>\n",
       "      <td>2014-03-22</td>\n",
       "      <td>NaN</td>\n",
       "      <td>NaN</td>\n",
       "      <td>NaN</td>\n",
       "      <td>NaN</td>\n",
       "    </tr>\n",
       "    <tr>\n",
       "      <th>2901</th>\n",
       "      <td>2015-02-28</td>\n",
       "      <td>NaN</td>\n",
       "      <td>NaN</td>\n",
       "      <td>NaN</td>\n",
       "      <td>NaN</td>\n",
       "    </tr>\n",
       "    <tr>\n",
       "      <th>4046</th>\n",
       "      <td>2019-10-27</td>\n",
       "      <td>NaN</td>\n",
       "      <td>NaN</td>\n",
       "      <td>NaN</td>\n",
       "      <td>NaN</td>\n",
       "    </tr>\n",
       "    <tr>\n",
       "      <th>4310</th>\n",
       "      <td>2020-11-14</td>\n",
       "      <td>NaN</td>\n",
       "      <td>NaN</td>\n",
       "      <td>NaN</td>\n",
       "      <td>NaN</td>\n",
       "    </tr>\n",
       "  </tbody>\n",
       "</table>\n",
       "</div>"
      ],
      "text/plain": [
       "            Date  Open  High  Low  Close\n",
       "1617  2009-12-23   NaN   NaN  NaN    NaN\n",
       "1618  2009-12-24   NaN   NaN  NaN    NaN\n",
       "1619  2009-12-29   NaN   NaN  NaN    NaN\n",
       "1620  2009-12-30   NaN   NaN  NaN    NaN\n",
       "1621  2009-12-31   NaN   NaN  NaN    NaN\n",
       "1646  2010-02-06   NaN   NaN  NaN    NaN\n",
       "2124  2012-01-07   NaN   NaN  NaN    NaN\n",
       "2163  2012-03-03   NaN   NaN  NaN    NaN\n",
       "2293  2012-09-08   NaN   NaN  NaN    NaN\n",
       "2335  2012-11-11   NaN   NaN  NaN    NaN\n",
       "2672  2014-03-22   NaN   NaN  NaN    NaN\n",
       "2901  2015-02-28   NaN   NaN  NaN    NaN\n",
       "4046  2019-10-27   NaN   NaN  NaN    NaN\n",
       "4310  2020-11-14   NaN   NaN  NaN    NaN"
      ]
     },
     "execution_count": 10,
     "metadata": {},
     "output_type": "execute_result"
    }
   ],
   "source": [
    "df[df[\"Close\"].isnull()]"
   ]
  },
  {
   "cell_type": "code",
   "execution_count": 11,
   "id": "f3e5e982",
   "metadata": {},
   "outputs": [],
   "source": [
    "df = df.dropna()"
   ]
  },
  {
   "cell_type": "code",
   "execution_count": 12,
   "id": "6bf00b57",
   "metadata": {},
   "outputs": [],
   "source": [
    "df = df.reset_index(drop = True)"
   ]
  },
  {
   "cell_type": "code",
   "execution_count": 13,
   "id": "b7fa58db",
   "metadata": {},
   "outputs": [],
   "source": [
    "#Resetting the Index to 'Date'\n",
    "\n",
    "df.set_index([\"Date\"],inplace = True)"
   ]
  },
  {
   "cell_type": "code",
   "execution_count": 14,
   "id": "804c9238",
   "metadata": {},
   "outputs": [
    {
     "data": {
      "text/html": [
       "<div>\n",
       "<style scoped>\n",
       "    .dataframe tbody tr th:only-of-type {\n",
       "        vertical-align: middle;\n",
       "    }\n",
       "\n",
       "    .dataframe tbody tr th {\n",
       "        vertical-align: top;\n",
       "    }\n",
       "\n",
       "    .dataframe thead th {\n",
       "        text-align: right;\n",
       "    }\n",
       "</style>\n",
       "<table border=\"1\" class=\"dataframe\">\n",
       "  <thead>\n",
       "    <tr style=\"text-align: right;\">\n",
       "      <th></th>\n",
       "      <th>Open</th>\n",
       "      <th>High</th>\n",
       "      <th>Low</th>\n",
       "      <th>Close</th>\n",
       "    </tr>\n",
       "    <tr>\n",
       "      <th>Date</th>\n",
       "      <th></th>\n",
       "      <th></th>\n",
       "      <th></th>\n",
       "      <th></th>\n",
       "    </tr>\n",
       "  </thead>\n",
       "  <tbody>\n",
       "    <tr>\n",
       "      <th>2003-07-09</th>\n",
       "      <td>164.899994</td>\n",
       "      <td>170.399994</td>\n",
       "      <td>155.000000</td>\n",
       "      <td>164.300003</td>\n",
       "    </tr>\n",
       "    <tr>\n",
       "      <th>2003-07-10</th>\n",
       "      <td>167.000000</td>\n",
       "      <td>168.699997</td>\n",
       "      <td>164.500000</td>\n",
       "      <td>167.000000</td>\n",
       "    </tr>\n",
       "    <tr>\n",
       "      <th>2003-07-11</th>\n",
       "      <td>167.750000</td>\n",
       "      <td>174.850006</td>\n",
       "      <td>166.250000</td>\n",
       "      <td>173.350006</td>\n",
       "    </tr>\n",
       "    <tr>\n",
       "      <th>2003-07-14</th>\n",
       "      <td>174.250000</td>\n",
       "      <td>179.250000</td>\n",
       "      <td>174.250000</td>\n",
       "      <td>177.949997</td>\n",
       "    </tr>\n",
       "    <tr>\n",
       "      <th>2003-07-15</th>\n",
       "      <td>200.000000</td>\n",
       "      <td>200.000000</td>\n",
       "      <td>173.000000</td>\n",
       "      <td>176.199997</td>\n",
       "    </tr>\n",
       "    <tr>\n",
       "      <th>...</th>\n",
       "      <td>...</td>\n",
       "      <td>...</td>\n",
       "      <td>...</td>\n",
       "      <td>...</td>\n",
       "    </tr>\n",
       "    <tr>\n",
       "      <th>2021-11-02</th>\n",
       "      <td>7647.950195</td>\n",
       "      <td>7910.000000</td>\n",
       "      <td>7630.799805</td>\n",
       "      <td>7791.750000</td>\n",
       "    </tr>\n",
       "    <tr>\n",
       "      <th>2021-11-03</th>\n",
       "      <td>7791.750000</td>\n",
       "      <td>7842.250000</td>\n",
       "      <td>7711.600098</td>\n",
       "      <td>7734.250000</td>\n",
       "    </tr>\n",
       "    <tr>\n",
       "      <th>2021-11-04</th>\n",
       "      <td>7774.700195</td>\n",
       "      <td>7819.950195</td>\n",
       "      <td>7735.500000</td>\n",
       "      <td>7747.399902</td>\n",
       "    </tr>\n",
       "    <tr>\n",
       "      <th>2021-11-08</th>\n",
       "      <td>7759.950195</td>\n",
       "      <td>7882.600098</td>\n",
       "      <td>7672.000000</td>\n",
       "      <td>7684.600098</td>\n",
       "    </tr>\n",
       "    <tr>\n",
       "      <th>2021-11-09</th>\n",
       "      <td>7709.000000</td>\n",
       "      <td>7764.500000</td>\n",
       "      <td>7538.700195</td>\n",
       "      <td>7577.549805</td>\n",
       "    </tr>\n",
       "  </tbody>\n",
       "</table>\n",
       "<p>4539 rows × 4 columns</p>\n",
       "</div>"
      ],
      "text/plain": [
       "                   Open         High          Low        Close\n",
       "Date                                                          \n",
       "2003-07-09   164.899994   170.399994   155.000000   164.300003\n",
       "2003-07-10   167.000000   168.699997   164.500000   167.000000\n",
       "2003-07-11   167.750000   174.850006   166.250000   173.350006\n",
       "2003-07-14   174.250000   179.250000   174.250000   177.949997\n",
       "2003-07-15   200.000000   200.000000   173.000000   176.199997\n",
       "...                 ...          ...          ...          ...\n",
       "2021-11-02  7647.950195  7910.000000  7630.799805  7791.750000\n",
       "2021-11-03  7791.750000  7842.250000  7711.600098  7734.250000\n",
       "2021-11-04  7774.700195  7819.950195  7735.500000  7747.399902\n",
       "2021-11-08  7759.950195  7882.600098  7672.000000  7684.600098\n",
       "2021-11-09  7709.000000  7764.500000  7538.700195  7577.549805\n",
       "\n",
       "[4539 rows x 4 columns]"
      ]
     },
     "execution_count": 14,
     "metadata": {},
     "output_type": "execute_result"
    }
   ],
   "source": [
    "df"
   ]
  },
  {
   "cell_type": "code",
   "execution_count": 15,
   "id": "2bd8c9ca",
   "metadata": {},
   "outputs": [],
   "source": [
    "df['Date'] = pd.to_datetime(df.index)\n"
   ]
  },
  {
   "cell_type": "markdown",
   "id": "8f1ee9ba",
   "metadata": {
    "scrolled": true
   },
   "source": [
    "#Plotting Close Price History\n",
    "\n",
    "plt.figure(figsize=(16,8))\n",
    "plt.title(\"Close Price History\")\n",
    "plt.plot(df.Date,df.Close)\n",
    "plt.xlabel(\"Date\")\n",
    "plt.ylabel(\"Closing Price In Rupees\")\n",
    "plt.show()"
   ]
  },
  {
   "cell_type": "markdown",
   "id": "9e494fb7",
   "metadata": {},
   "source": [
    "# Feature Selection\n",
    "\n",
    "In this Project we selected 'Close' price as a feature as we have to predict Closing price of the stock"
   ]
  },
  {
   "cell_type": "code",
   "execution_count": 16,
   "id": "0b954acf",
   "metadata": {},
   "outputs": [],
   "source": [
    "#Create a new dataframe with only \"Close Price\"\n",
    "\n",
    "data = df.filter([\"Close\"])"
   ]
  },
  {
   "cell_type": "code",
   "execution_count": 17,
   "id": "bfc388d0",
   "metadata": {},
   "outputs": [
    {
     "data": {
      "text/html": [
       "<div>\n",
       "<style scoped>\n",
       "    .dataframe tbody tr th:only-of-type {\n",
       "        vertical-align: middle;\n",
       "    }\n",
       "\n",
       "    .dataframe tbody tr th {\n",
       "        vertical-align: top;\n",
       "    }\n",
       "\n",
       "    .dataframe thead th {\n",
       "        text-align: right;\n",
       "    }\n",
       "</style>\n",
       "<table border=\"1\" class=\"dataframe\">\n",
       "  <thead>\n",
       "    <tr style=\"text-align: right;\">\n",
       "      <th></th>\n",
       "      <th>Close</th>\n",
       "    </tr>\n",
       "    <tr>\n",
       "      <th>Date</th>\n",
       "      <th></th>\n",
       "    </tr>\n",
       "  </thead>\n",
       "  <tbody>\n",
       "    <tr>\n",
       "      <th>2003-07-09</th>\n",
       "      <td>164.300003</td>\n",
       "    </tr>\n",
       "    <tr>\n",
       "      <th>2003-07-10</th>\n",
       "      <td>167.000000</td>\n",
       "    </tr>\n",
       "    <tr>\n",
       "      <th>2003-07-11</th>\n",
       "      <td>173.350006</td>\n",
       "    </tr>\n",
       "    <tr>\n",
       "      <th>2003-07-14</th>\n",
       "      <td>177.949997</td>\n",
       "    </tr>\n",
       "    <tr>\n",
       "      <th>2003-07-15</th>\n",
       "      <td>176.199997</td>\n",
       "    </tr>\n",
       "    <tr>\n",
       "      <th>...</th>\n",
       "      <td>...</td>\n",
       "    </tr>\n",
       "    <tr>\n",
       "      <th>2021-11-02</th>\n",
       "      <td>7791.750000</td>\n",
       "    </tr>\n",
       "    <tr>\n",
       "      <th>2021-11-03</th>\n",
       "      <td>7734.250000</td>\n",
       "    </tr>\n",
       "    <tr>\n",
       "      <th>2021-11-04</th>\n",
       "      <td>7747.399902</td>\n",
       "    </tr>\n",
       "    <tr>\n",
       "      <th>2021-11-08</th>\n",
       "      <td>7684.600098</td>\n",
       "    </tr>\n",
       "    <tr>\n",
       "      <th>2021-11-09</th>\n",
       "      <td>7577.549805</td>\n",
       "    </tr>\n",
       "  </tbody>\n",
       "</table>\n",
       "<p>4539 rows × 1 columns</p>\n",
       "</div>"
      ],
      "text/plain": [
       "                  Close\n",
       "Date                   \n",
       "2003-07-09   164.300003\n",
       "2003-07-10   167.000000\n",
       "2003-07-11   173.350006\n",
       "2003-07-14   177.949997\n",
       "2003-07-15   176.199997\n",
       "...                 ...\n",
       "2021-11-02  7791.750000\n",
       "2021-11-03  7734.250000\n",
       "2021-11-04  7747.399902\n",
       "2021-11-08  7684.600098\n",
       "2021-11-09  7577.549805\n",
       "\n",
       "[4539 rows x 1 columns]"
      ]
     },
     "execution_count": 17,
     "metadata": {},
     "output_type": "execute_result"
    }
   ],
   "source": [
    "data"
   ]
  },
  {
   "cell_type": "code",
   "execution_count": 18,
   "id": "154a162b",
   "metadata": {},
   "outputs": [],
   "source": [
    "#Converting dataframe into numpy array\n",
    "\n",
    "dataset = data.values"
   ]
  },
  {
   "cell_type": "code",
   "execution_count": 19,
   "id": "b68f79b2",
   "metadata": {},
   "outputs": [
    {
     "data": {
      "text/plain": [
       "array([[ 164.300003],\n",
       "       [ 167.      ],\n",
       "       [ 173.350006],\n",
       "       ...,\n",
       "       [7747.399902],\n",
       "       [7684.600098],\n",
       "       [7577.549805]])"
      ]
     },
     "execution_count": 19,
     "metadata": {},
     "output_type": "execute_result"
    }
   ],
   "source": [
    "dataset"
   ]
  },
  {
   "cell_type": "markdown",
   "id": "f42ce261",
   "metadata": {},
   "source": [
    "#  Data Preprocessing\n",
    "\n",
    "After the dataset is transformed into a clean dataset, the dataset is divided into training and testing sets so as to evaluate."
   ]
  },
  {
   "cell_type": "code",
   "execution_count": 20,
   "id": "5486ff93",
   "metadata": {},
   "outputs": [],
   "source": [
    "#Scaling the data\n",
    "\n",
    "scaler = MinMaxScaler(feature_range=(0,1))\n",
    "scaled_data = scaler.fit_transform(dataset)"
   ]
  },
  {
   "cell_type": "code",
   "execution_count": 21,
   "id": "21b251dd",
   "metadata": {},
   "outputs": [
    {
     "data": {
      "text/plain": [
       "array([[0.00000000e+00],\n",
       "       [2.79267176e-04],\n",
       "       [9.36063551e-04],\n",
       "       ...,\n",
       "       [7.84338239e-01],\n",
       "       [7.77842705e-01],\n",
       "       [7.66770236e-01]])"
      ]
     },
     "execution_count": 21,
     "metadata": {},
     "output_type": "execute_result"
    }
   ],
   "source": [
    "scaled_data"
   ]
  },
  {
   "cell_type": "code",
   "execution_count": 22,
   "id": "6128788a",
   "metadata": {},
   "outputs": [],
   "source": [
    "#Training data split\n",
    "\n",
    "training_data_len = math.ceil(len(dataset) *.70)"
   ]
  },
  {
   "cell_type": "code",
   "execution_count": 23,
   "id": "81602903",
   "metadata": {},
   "outputs": [
    {
     "data": {
      "text/plain": [
       "3178"
      ]
     },
     "execution_count": 23,
     "metadata": {},
     "output_type": "execute_result"
    }
   ],
   "source": [
    "training_data_len"
   ]
  },
  {
   "cell_type": "code",
   "execution_count": 24,
   "id": "4e3ef407",
   "metadata": {},
   "outputs": [
    {
     "data": {
      "text/plain": [
       "array([[0.00000000e+00],\n",
       "       [2.79267176e-04],\n",
       "       [9.36063551e-04],\n",
       "       ...,\n",
       "       [3.79240084e-01],\n",
       "       [3.78112656e-01],\n",
       "       [3.77243834e-01]])"
      ]
     },
     "execution_count": 24,
     "metadata": {},
     "output_type": "execute_result"
    }
   ],
   "source": [
    "#Creating the scaled training data set\n",
    "\n",
    "train_data = scaled_data[0:training_data_len ,:]\n",
    "train_data\n"
   ]
  },
  {
   "cell_type": "code",
   "execution_count": 25,
   "id": "3a21a160",
   "metadata": {},
   "outputs": [
    {
     "data": {
      "text/plain": [
       "3178"
      ]
     },
     "execution_count": 25,
     "metadata": {},
     "output_type": "execute_result"
    }
   ],
   "source": [
    "len(train_data)"
   ]
  },
  {
   "cell_type": "code",
   "execution_count": 26,
   "id": "0d4ebd79",
   "metadata": {},
   "outputs": [],
   "source": [
    "#Splitting into x_train and y_train datasets\n",
    "x_train = []\n",
    "y_train = []\n",
    "\n",
    "for i in range(100,len(train_data)):\n",
    "    x_train.append(train_data[i-100:i ,0])\n",
    "    y_train.append(train_data[i,0])"
   ]
  },
  {
   "cell_type": "code",
   "execution_count": 27,
   "id": "57b35cc1",
   "metadata": {},
   "outputs": [],
   "source": [
    "#Converting datasets into numpy arrays\n",
    "\n",
    "x_train , y_train = np.array(x_train),np.array(y_train)"
   ]
  },
  {
   "cell_type": "code",
   "execution_count": 28,
   "id": "049b3550",
   "metadata": {},
   "outputs": [
    {
     "data": {
      "text/plain": [
       "array([[0.00000000e+00, 2.79267176e-04, 9.36063551e-04, ...,\n",
       "        1.65233247e-02, 1.68543096e-02, 1.78938040e-02],\n",
       "       [2.79267176e-04, 9.36063551e-04, 1.41185167e-03, ...,\n",
       "        1.68543096e-02, 1.78938040e-02, 1.78938040e-02],\n",
       "       [9.36063551e-04, 1.41185167e-03, 1.23084497e-03, ...,\n",
       "        1.78938040e-02, 1.78938040e-02, 1.82454767e-02],\n",
       "       ...,\n",
       "       [4.60739615e-01, 4.61592933e-01, 4.58831318e-01, ...,\n",
       "        3.82193059e-01, 3.70665523e-01, 3.75495811e-01],\n",
       "       [4.61592933e-01, 4.58831318e-01, 4.55092247e-01, ...,\n",
       "        3.70665523e-01, 3.75495811e-01, 3.79240084e-01],\n",
       "       [4.58831318e-01, 4.55092247e-01, 4.52852895e-01, ...,\n",
       "        3.75495811e-01, 3.79240084e-01, 3.78112656e-01]])"
      ]
     },
     "execution_count": 28,
     "metadata": {},
     "output_type": "execute_result"
    }
   ],
   "source": [
    "x_train"
   ]
  },
  {
   "cell_type": "code",
   "execution_count": 29,
   "id": "39b9cfda",
   "metadata": {},
   "outputs": [
    {
     "data": {
      "text/plain": [
       "array([0.0178938 , 0.01824548, 0.01864886, ..., 0.37924008, 0.37811266,\n",
       "       0.37724383])"
      ]
     },
     "execution_count": 29,
     "metadata": {},
     "output_type": "execute_result"
    }
   ],
   "source": [
    "y_train"
   ]
  },
  {
   "cell_type": "code",
   "execution_count": 30,
   "id": "0411790a",
   "metadata": {},
   "outputs": [
    {
     "data": {
      "text/plain": [
       "((3078, 100), (3078,))"
      ]
     },
     "execution_count": 30,
     "metadata": {},
     "output_type": "execute_result"
    }
   ],
   "source": [
    "x_train.shape ,y_train.shape"
   ]
  },
  {
   "cell_type": "code",
   "execution_count": 31,
   "id": "691da93e",
   "metadata": {},
   "outputs": [],
   "source": [
    "#Reshaping the data\n",
    "\n",
    "x_train = np.reshape(x_train,(x_train.shape[0],x_train.shape[1],1))"
   ]
  },
  {
   "cell_type": "markdown",
   "id": "a3dffeee",
   "metadata": {},
   "source": [
    "# Building LSTM Model"
   ]
  },
  {
   "cell_type": "code",
   "execution_count": 32,
   "id": "c4fa33b2",
   "metadata": {},
   "outputs": [],
   "source": [
    "#Building LSTM Model\n",
    "\n",
    "model=Sequential()\n",
    "model.add(LSTM(50,return_sequences=True,input_shape=(x_train.shape[1],1)))\n",
    "model.add(LSTM(50,return_sequences=False))\n",
    "model.add(Dense(25))\n",
    "model.add(Dense(1))\n",
    "model.compile(loss='mean_squared_error',optimizer='adam')"
   ]
  },
  {
   "cell_type": "markdown",
   "id": "60a5d1e8",
   "metadata": {},
   "source": [
    "# Training the Model"
   ]
  },
  {
   "cell_type": "code",
   "execution_count": 33,
   "id": "0a9e2369",
   "metadata": {},
   "outputs": [
    {
     "name": "stdout",
     "output_type": "stream",
     "text": [
      "Epoch 1/150\n",
      "49/49 [==============================] - 17s 167ms/step - loss: 0.0025\n",
      "Epoch 2/150\n",
      "49/49 [==============================] - 7s 143ms/step - loss: 8.0051e-05\n",
      "Epoch 3/150\n",
      "49/49 [==============================] - 7s 141ms/step - loss: 6.1946e-05\n",
      "Epoch 4/150\n",
      "49/49 [==============================] - 7s 138ms/step - loss: 6.0183e-05\n",
      "Epoch 5/150\n",
      "49/49 [==============================] - 7s 139ms/step - loss: 5.8530e-05\n",
      "Epoch 6/150\n",
      "49/49 [==============================] - 7s 139ms/step - loss: 5.7537e-05\n",
      "Epoch 7/150\n",
      "49/49 [==============================] - 7s 141ms/step - loss: 5.7209e-05\n",
      "Epoch 8/150\n",
      "49/49 [==============================] - 7s 142ms/step - loss: 5.4872e-05\n",
      "Epoch 9/150\n",
      "49/49 [==============================] - 7s 143ms/step - loss: 5.1503e-05\n",
      "Epoch 10/150\n",
      "49/49 [==============================] - 7s 146ms/step - loss: 5.0441e-05\n",
      "Epoch 11/150\n",
      "49/49 [==============================] - 8s 155ms/step - loss: 5.6763e-05\n",
      "Epoch 12/150\n",
      "49/49 [==============================] - 7s 152ms/step - loss: 5.3931e-05\n",
      "Epoch 13/150\n",
      "49/49 [==============================] - 7s 144ms/step - loss: 4.7913e-05\n",
      "Epoch 14/150\n",
      "49/49 [==============================] - 7s 145ms/step - loss: 4.5888e-05\n",
      "Epoch 15/150\n",
      "49/49 [==============================] - 7s 145ms/step - loss: 5.1022e-05\n",
      "Epoch 16/150\n",
      "49/49 [==============================] - 7s 144ms/step - loss: 4.4670e-05\n",
      "Epoch 17/150\n",
      "49/49 [==============================] - 7s 148ms/step - loss: 4.7507e-05\n",
      "Epoch 18/150\n",
      "49/49 [==============================] - 7s 147ms/step - loss: 4.3297e-05\n",
      "Epoch 19/150\n",
      "49/49 [==============================] - 7s 140ms/step - loss: 5.0474e-05\n",
      "Epoch 20/150\n",
      "49/49 [==============================] - 7s 141ms/step - loss: 4.8353e-05\n",
      "Epoch 21/150\n",
      "49/49 [==============================] - 7s 140ms/step - loss: 4.1297e-05\n",
      "Epoch 22/150\n",
      "49/49 [==============================] - 7s 140ms/step - loss: 5.0894e-05\n",
      "Epoch 23/150\n",
      "49/49 [==============================] - 7s 140ms/step - loss: 3.8322e-05\n",
      "Epoch 24/150\n",
      "49/49 [==============================] - 7s 141ms/step - loss: 4.2444e-05\n",
      "Epoch 25/150\n",
      "49/49 [==============================] - 7s 140ms/step - loss: 4.2766e-05\n",
      "Epoch 26/150\n",
      "49/49 [==============================] - 7s 145ms/step - loss: 3.9184e-05\n",
      "Epoch 27/150\n",
      "49/49 [==============================] - 7s 143ms/step - loss: 3.8504e-05\n",
      "Epoch 28/150\n",
      "49/49 [==============================] - 7s 146ms/step - loss: 3.9138e-05\n",
      "Epoch 29/150\n",
      "49/49 [==============================] - 7s 148ms/step - loss: 3.5490e-05\n",
      "Epoch 30/150\n",
      "49/49 [==============================] - 7s 148ms/step - loss: 3.4623e-05\n",
      "Epoch 31/150\n",
      "49/49 [==============================] - 7s 147ms/step - loss: 3.5471e-05\n",
      "Epoch 32/150\n",
      "49/49 [==============================] - 7s 150ms/step - loss: 4.4394e-05\n",
      "Epoch 33/150\n",
      "49/49 [==============================] - 7s 146ms/step - loss: 3.4504e-05\n",
      "Epoch 34/150\n",
      "49/49 [==============================] - 8s 159ms/step - loss: 3.1474e-05\n",
      "Epoch 35/150\n",
      "49/49 [==============================] - 8s 160ms/step - loss: 3.8564e-05\n",
      "Epoch 36/150\n",
      "49/49 [==============================] - 8s 158ms/step - loss: 3.0551e-05\n",
      "Epoch 37/150\n",
      "49/49 [==============================] - 8s 155ms/step - loss: 3.1830e-05\n",
      "Epoch 38/150\n",
      "49/49 [==============================] - 8s 160ms/step - loss: 3.0976e-05\n",
      "Epoch 39/150\n",
      "49/49 [==============================] - 7s 151ms/step - loss: 2.8948e-05\n",
      "Epoch 40/150\n",
      "49/49 [==============================] - 8s 164ms/step - loss: 3.1515e-05\n",
      "Epoch 41/150\n",
      "49/49 [==============================] - 9s 179ms/step - loss: 2.8430e-05\n",
      "Epoch 42/150\n",
      "49/49 [==============================] - 9s 179ms/step - loss: 2.9488e-05\n",
      "Epoch 43/150\n",
      "49/49 [==============================] - 9s 180ms/step - loss: 3.1239e-05\n",
      "Epoch 44/150\n",
      "49/49 [==============================] - 8s 166ms/step - loss: 2.8241e-05\n",
      "Epoch 45/150\n",
      "49/49 [==============================] - 9s 186ms/step - loss: 3.0769e-05\n",
      "Epoch 46/150\n",
      "49/49 [==============================] - 8s 166ms/step - loss: 3.0889e-05\n",
      "Epoch 47/150\n",
      "49/49 [==============================] - 8s 172ms/step - loss: 2.7999e-05\n",
      "Epoch 48/150\n",
      "49/49 [==============================] - 9s 177ms/step - loss: 3.0786e-05\n",
      "Epoch 49/150\n",
      "49/49 [==============================] - 9s 183ms/step - loss: 2.5686e-05\n",
      "Epoch 50/150\n",
      "49/49 [==============================] - 8s 166ms/step - loss: 3.2830e-05\n",
      "Epoch 51/150\n",
      "49/49 [==============================] - 8s 167ms/step - loss: 2.9904e-05\n",
      "Epoch 52/150\n",
      "49/49 [==============================] - 8s 164ms/step - loss: 2.5075e-05\n",
      "Epoch 53/150\n",
      "49/49 [==============================] - 8s 165ms/step - loss: 2.3670e-05\n",
      "Epoch 54/150\n",
      "49/49 [==============================] - 8s 167ms/step - loss: 2.6904e-05\n",
      "Epoch 55/150\n",
      "49/49 [==============================] - 8s 167ms/step - loss: 2.5623e-05\n",
      "Epoch 56/150\n",
      "49/49 [==============================] - 8s 164ms/step - loss: 2.4076e-05\n",
      "Epoch 57/150\n",
      "49/49 [==============================] - 8s 167ms/step - loss: 2.4627e-05\n",
      "Epoch 58/150\n",
      "49/49 [==============================] - 8s 166ms/step - loss: 3.7325e-05\n",
      "Epoch 59/150\n",
      "49/49 [==============================] - 8s 165ms/step - loss: 3.9240e-05\n",
      "Epoch 60/150\n",
      "49/49 [==============================] - 8s 166ms/step - loss: 2.6520e-05\n",
      "Epoch 61/150\n",
      "49/49 [==============================] - 8s 164ms/step - loss: 2.4369e-05\n",
      "Epoch 62/150\n",
      "49/49 [==============================] - 8s 168ms/step - loss: 2.2815e-05\n",
      "Epoch 63/150\n",
      "49/49 [==============================] - 8s 167ms/step - loss: 2.3401e-05\n",
      "Epoch 64/150\n",
      "49/49 [==============================] - 8s 169ms/step - loss: 2.2781e-05\n",
      "Epoch 65/150\n",
      "49/49 [==============================] - 8s 163ms/step - loss: 2.6346e-05\n",
      "Epoch 66/150\n",
      "49/49 [==============================] - 8s 166ms/step - loss: 2.0722e-05\n",
      "Epoch 67/150\n",
      "49/49 [==============================] - 8s 164ms/step - loss: 2.0609e-05\n",
      "Epoch 68/150\n",
      "49/49 [==============================] - 8s 166ms/step - loss: 2.1455e-05\n",
      "Epoch 69/150\n",
      "49/49 [==============================] - 8s 164ms/step - loss: 2.2235e-05\n",
      "Epoch 70/150\n",
      "49/49 [==============================] - 8s 169ms/step - loss: 2.6981e-05 2s - \n",
      "Epoch 71/150\n",
      "49/49 [==============================] - 8s 165ms/step - loss: 2.2962e-05\n",
      "Epoch 72/150\n",
      "49/49 [==============================] - 8s 167ms/step - loss: 2.0811e-05\n",
      "Epoch 73/150\n",
      "49/49 [==============================] - 8s 166ms/step - loss: 1.9806e-05\n",
      "Epoch 74/150\n",
      "49/49 [==============================] - 8s 155ms/step - loss: 2.1458e-05\n",
      "Epoch 75/150\n",
      "49/49 [==============================] - 8s 153ms/step - loss: 2.7765e-05\n",
      "Epoch 76/150\n",
      "49/49 [==============================] - 8s 154ms/step - loss: 1.9368e-05\n",
      "Epoch 77/150\n",
      "49/49 [==============================] - 8s 156ms/step - loss: 1.8973e-05\n",
      "Epoch 78/150\n",
      "49/49 [==============================] - 7s 152ms/step - loss: 2.1682e-05\n",
      "Epoch 79/150\n",
      "49/49 [==============================] - 7s 152ms/step - loss: 2.0925e-05\n",
      "Epoch 80/150\n",
      "49/49 [==============================] - 7s 152ms/step - loss: 1.7321e-05\n",
      "Epoch 81/150\n",
      "49/49 [==============================] - 8s 158ms/step - loss: 1.8803e-05\n",
      "Epoch 82/150\n",
      "49/49 [==============================] - 8s 156ms/step - loss: 2.0278e-05\n",
      "Epoch 83/150\n",
      "49/49 [==============================] - 8s 155ms/step - loss: 1.8403e-05\n",
      "Epoch 84/150\n",
      "49/49 [==============================] - 8s 153ms/step - loss: 2.0405e-05\n",
      "Epoch 85/150\n",
      "49/49 [==============================] - 8s 155ms/step - loss: 1.9239e-05\n",
      "Epoch 86/150\n",
      "49/49 [==============================] - 7s 152ms/step - loss: 1.5460e-05\n",
      "Epoch 87/150\n",
      "49/49 [==============================] - 7s 152ms/step - loss: 1.8759e-05\n",
      "Epoch 88/150\n",
      "49/49 [==============================] - 7s 151ms/step - loss: 3.6353e-05\n",
      "Epoch 89/150\n",
      "49/49 [==============================] - 9s 177ms/step - loss: 1.6337e-05\n",
      "Epoch 90/150\n",
      "49/49 [==============================] - 8s 154ms/step - loss: 1.7482e-05\n",
      "Epoch 91/150\n",
      "49/49 [==============================] - 7s 151ms/step - loss: 2.2140e-05\n",
      "Epoch 92/150\n",
      "49/49 [==============================] - 7s 151ms/step - loss: 1.8653e-05\n",
      "Epoch 93/150\n",
      "49/49 [==============================] - 7s 152ms/step - loss: 1.7506e-05\n",
      "Epoch 94/150\n",
      "49/49 [==============================] - 8s 154ms/step - loss: 1.8017e-05\n",
      "Epoch 95/150\n"
     ]
    },
    {
     "name": "stdout",
     "output_type": "stream",
     "text": [
      "49/49 [==============================] - 7s 151ms/step - loss: 1.5000e-05\n",
      "Epoch 96/150\n",
      "49/49 [==============================] - 7s 151ms/step - loss: 1.5972e-05\n",
      "Epoch 97/150\n",
      "49/49 [==============================] - 7s 152ms/step - loss: 1.4465e-05\n",
      "Epoch 98/150\n",
      "49/49 [==============================] - 7s 151ms/step - loss: 1.5128e-05\n",
      "Epoch 99/150\n",
      "49/49 [==============================] - 8s 154ms/step - loss: 1.8528e-05\n",
      "Epoch 100/150\n",
      "49/49 [==============================] - 7s 153ms/step - loss: 1.7837e-05\n",
      "Epoch 101/150\n",
      "49/49 [==============================] - 7s 151ms/step - loss: 1.5520e-05\n",
      "Epoch 102/150\n",
      "49/49 [==============================] - 7s 150ms/step - loss: 1.4403e-05\n",
      "Epoch 103/150\n",
      "49/49 [==============================] - 8s 154ms/step - loss: 1.3844e-05\n",
      "Epoch 104/150\n",
      "49/49 [==============================] - 7s 151ms/step - loss: 1.4242e-05\n",
      "Epoch 105/150\n",
      "49/49 [==============================] - 7s 153ms/step - loss: 1.3544e-05\n",
      "Epoch 106/150\n",
      "49/49 [==============================] - 8s 159ms/step - loss: 1.4050e-05\n",
      "Epoch 107/150\n",
      "49/49 [==============================] - 8s 155ms/step - loss: 1.2648e-05\n",
      "Epoch 108/150\n",
      "49/49 [==============================] - 7s 142ms/step - loss: 1.4888e-05\n",
      "Epoch 109/150\n",
      "49/49 [==============================] - 7s 140ms/step - loss: 1.6240e-05\n",
      "Epoch 110/150\n",
      "49/49 [==============================] - 7s 139ms/step - loss: 1.6591e-05\n",
      "Epoch 111/150\n",
      "49/49 [==============================] - 7s 139ms/step - loss: 1.4117e-05\n",
      "Epoch 112/150\n",
      "49/49 [==============================] - 7s 139ms/step - loss: 1.4817e-05\n",
      "Epoch 113/150\n",
      "49/49 [==============================] - 7s 139ms/step - loss: 1.7473e-05\n",
      "Epoch 114/150\n",
      "49/49 [==============================] - 7s 139ms/step - loss: 1.3629e-05\n",
      "Epoch 115/150\n",
      "49/49 [==============================] - 7s 140ms/step - loss: 1.3118e-05\n",
      "Epoch 116/150\n",
      "49/49 [==============================] - 7s 139ms/step - loss: 1.3585e-05\n",
      "Epoch 117/150\n",
      "49/49 [==============================] - 7s 140ms/step - loss: 1.3460e-05\n",
      "Epoch 118/150\n",
      "49/49 [==============================] - 7s 139ms/step - loss: 1.1857e-05\n",
      "Epoch 119/150\n",
      "49/49 [==============================] - 7s 139ms/step - loss: 1.4913e-05\n",
      "Epoch 120/150\n",
      "49/49 [==============================] - 7s 139ms/step - loss: 1.4299e-05\n",
      "Epoch 121/150\n",
      "49/49 [==============================] - 7s 139ms/step - loss: 1.3031e-05\n",
      "Epoch 122/150\n",
      "49/49 [==============================] - 7s 140ms/step - loss: 1.4357e-05\n",
      "Epoch 123/150\n",
      "49/49 [==============================] - 7s 139ms/step - loss: 1.3710e-05\n",
      "Epoch 124/150\n",
      "49/49 [==============================] - 7s 139ms/step - loss: 1.4902e-05\n",
      "Epoch 125/150\n",
      "49/49 [==============================] - 7s 139ms/step - loss: 1.2787e-05\n",
      "Epoch 126/150\n",
      "49/49 [==============================] - 7s 139ms/step - loss: 1.2486e-05\n",
      "Epoch 127/150\n",
      "49/49 [==============================] - 7s 139ms/step - loss: 1.1777e-05\n",
      "Epoch 128/150\n",
      "49/49 [==============================] - 7s 138ms/step - loss: 1.3256e-05\n",
      "Epoch 129/150\n",
      "49/49 [==============================] - 7s 138ms/step - loss: 1.5674e-05\n",
      "Epoch 130/150\n",
      "49/49 [==============================] - 7s 139ms/step - loss: 1.5387e-05\n",
      "Epoch 131/150\n",
      "49/49 [==============================] - 7s 139ms/step - loss: 1.3471e-05\n",
      "Epoch 132/150\n",
      "49/49 [==============================] - 7s 138ms/step - loss: 1.2622e-05\n",
      "Epoch 133/150\n",
      "49/49 [==============================] - 7s 139ms/step - loss: 1.4024e-05\n",
      "Epoch 134/150\n",
      "49/49 [==============================] - 7s 139ms/step - loss: 1.3844e-05\n",
      "Epoch 135/150\n",
      "49/49 [==============================] - 7s 139ms/step - loss: 1.4293e-05\n",
      "Epoch 136/150\n",
      "49/49 [==============================] - 7s 139ms/step - loss: 1.5492e-05\n",
      "Epoch 137/150\n",
      "49/49 [==============================] - 7s 142ms/step - loss: 1.3709e-05\n",
      "Epoch 138/150\n",
      "49/49 [==============================] - 7s 139ms/step - loss: 1.2052e-05\n",
      "Epoch 139/150\n",
      "49/49 [==============================] - 7s 138ms/step - loss: 1.2504e-05\n",
      "Epoch 140/150\n",
      "49/49 [==============================] - 7s 140ms/step - loss: 1.2525e-05\n",
      "Epoch 141/150\n",
      "49/49 [==============================] - 7s 139ms/step - loss: 1.3888e-05\n",
      "Epoch 142/150\n",
      "49/49 [==============================] - 7s 144ms/step - loss: 1.4964e-05\n",
      "Epoch 143/150\n",
      "49/49 [==============================] - 8s 157ms/step - loss: 1.3130e-05\n",
      "Epoch 144/150\n",
      "49/49 [==============================] - 7s 147ms/step - loss: 1.4053e-05\n",
      "Epoch 145/150\n",
      "49/49 [==============================] - 7s 150ms/step - loss: 1.2506e-05\n",
      "Epoch 146/150\n",
      "49/49 [==============================] - 7s 147ms/step - loss: 1.2821e-05\n",
      "Epoch 147/150\n",
      "49/49 [==============================] - 8s 154ms/step - loss: 1.3487e-05\n",
      "Epoch 148/150\n",
      "49/49 [==============================] - 7s 150ms/step - loss: 1.3679e-05\n",
      "Epoch 149/150\n",
      "49/49 [==============================] - 8s 156ms/step - loss: 1.5867e-05\n",
      "Epoch 150/150\n",
      "49/49 [==============================] - 7s 143ms/step - loss: 1.5744e-05\n"
     ]
    },
    {
     "data": {
      "text/plain": [
       "<keras.callbacks.History at 0x14b061016a0>"
      ]
     },
     "execution_count": 33,
     "metadata": {},
     "output_type": "execute_result"
    }
   ],
   "source": [
    "#Training the Model\n",
    "\n",
    "model.fit(x_train , y_train,batch_size=64,epochs=150)"
   ]
  },
  {
   "cell_type": "markdown",
   "id": "ed815342",
   "metadata": {},
   "source": [
    "#  Test Dataset Update"
   ]
  },
  {
   "cell_type": "code",
   "execution_count": 34,
   "id": "ff02c887",
   "metadata": {},
   "outputs": [
    {
     "data": {
      "text/plain": [
       "1461"
      ]
     },
     "execution_count": 34,
     "metadata": {},
     "output_type": "execute_result"
    }
   ],
   "source": [
    "#Creating the testing data set\n",
    "test_data = scaled_data[training_data_len-100:,:]\n",
    "\n",
    "len(test_data)"
   ]
  },
  {
   "cell_type": "code",
   "execution_count": 35,
   "id": "c40de77c",
   "metadata": {},
   "outputs": [],
   "source": [
    "#Creating the x_test and y_test\n",
    "x_test = []\n",
    "y_test = dataset[training_data_len:,:]\n",
    "\n",
    "for i in range(100,len(test_data)):\n",
    "    x_test.append(test_data[i-100:i,0])"
   ]
  },
  {
   "cell_type": "code",
   "execution_count": 36,
   "id": "48c8253b",
   "metadata": {},
   "outputs": [],
   "source": [
    "#Converting test data into numpy array\n",
    "\n",
    "x_test =np.array(x_test)"
   ]
  },
  {
   "cell_type": "code",
   "execution_count": 37,
   "id": "d8ba9778",
   "metadata": {},
   "outputs": [
    {
     "data": {
      "text/plain": [
       "array([[0.45509225, 0.45285289, 0.44629014, ..., 0.37924008, 0.37811266,\n",
       "        0.37724383],\n",
       "       [0.45285289, 0.44629014, 0.44825535, ..., 0.37811266, 0.37724383,\n",
       "        0.37986068],\n",
       "       [0.44629014, 0.44825535, 0.44646079, ..., 0.37724383, 0.37986068,\n",
       "        0.37800922],\n",
       "       ...,\n",
       "       [0.73018102, 0.72542833, 0.72422851, ..., 0.77070067, 0.78892548,\n",
       "        0.78297811],\n",
       "       [0.72542833, 0.72422851, 0.71885002, ..., 0.78892548, 0.78297811,\n",
       "        0.78433824],\n",
       "       [0.72422851, 0.71885002, 0.70386268, ..., 0.78297811, 0.78433824,\n",
       "        0.7778427 ]])"
      ]
     },
     "execution_count": 37,
     "metadata": {},
     "output_type": "execute_result"
    }
   ],
   "source": [
    "x_test"
   ]
  },
  {
   "cell_type": "code",
   "execution_count": 38,
   "id": "8324ede2",
   "metadata": {},
   "outputs": [
    {
     "data": {
      "text/plain": [
       "(1361, 100)"
      ]
     },
     "execution_count": 38,
     "metadata": {},
     "output_type": "execute_result"
    }
   ],
   "source": [
    "x_test.shape"
   ]
  },
  {
   "cell_type": "code",
   "execution_count": 39,
   "id": "31f2a53b",
   "metadata": {},
   "outputs": [
    {
     "data": {
      "text/plain": [
       "array([[3836.850098],\n",
       "       [3818.949951],\n",
       "       [3846.5     ],\n",
       "       ...,\n",
       "       [7747.399902],\n",
       "       [7684.600098],\n",
       "       [7577.549805]])"
      ]
     },
     "execution_count": 39,
     "metadata": {},
     "output_type": "execute_result"
    }
   ],
   "source": [
    "y_test"
   ]
  },
  {
   "cell_type": "code",
   "execution_count": 40,
   "id": "0224ef5e",
   "metadata": {},
   "outputs": [
    {
     "data": {
      "text/plain": [
       "(1361, 1)"
      ]
     },
     "execution_count": 40,
     "metadata": {},
     "output_type": "execute_result"
    }
   ],
   "source": [
    "y_test.shape"
   ]
  },
  {
   "cell_type": "code",
   "execution_count": 41,
   "id": "04a7bd5f",
   "metadata": {},
   "outputs": [],
   "source": [
    "x_test = np.reshape(x_test,(x_test.shape[0],x_test.shape[1],1))"
   ]
  },
  {
   "cell_type": "markdown",
   "id": "a74cd038",
   "metadata": {},
   "source": [
    "# Predicting Test Values Using Model"
   ]
  },
  {
   "cell_type": "code",
   "execution_count": 42,
   "id": "ecfaa43a",
   "metadata": {},
   "outputs": [],
   "source": [
    "#Getting predicted values of x_test using the model\n",
    "\n",
    "predictions = model.predict(x_test)\n",
    "predictions = scaler.inverse_transform(predictions)"
   ]
  },
  {
   "cell_type": "code",
   "execution_count": 43,
   "id": "d4602fd6",
   "metadata": {},
   "outputs": [
    {
     "data": {
      "text/plain": [
       "array([[3847.6792],\n",
       "       [3878.655 ],\n",
       "       [3853.1992],\n",
       "       ...,\n",
       "       [7590.5522],\n",
       "       [7671.2783],\n",
       "       [7569.619 ]], dtype=float32)"
      ]
     },
     "execution_count": 43,
     "metadata": {},
     "output_type": "execute_result"
    }
   ],
   "source": [
    "predictions"
   ]
  },
  {
   "cell_type": "code",
   "execution_count": 44,
   "id": "858a33a2",
   "metadata": {},
   "outputs": [
    {
     "data": {
      "text/plain": [
       "(1361, 1)"
      ]
     },
     "execution_count": 44,
     "metadata": {},
     "output_type": "execute_result"
    }
   ],
   "source": [
    "predictions.shape"
   ]
  },
  {
   "cell_type": "markdown",
   "id": "b74e03cd",
   "metadata": {},
   "source": [
    "# Error Calculation"
   ]
  },
  {
   "cell_type": "code",
   "execution_count": 45,
   "id": "e88e2257",
   "metadata": {},
   "outputs": [
    {
     "data": {
      "text/plain": [
       "153.77269632594457"
      ]
     },
     "execution_count": 45,
     "metadata": {},
     "output_type": "execute_result"
    }
   ],
   "source": [
    "#Calculating Root Mean Square Error Value \n",
    "\n",
    "\n",
    "test_rmse = np.sqrt(np.mean(np.power(((y_test)-(predictions)),2)))\n",
    "\n",
    "test_rmse"
   ]
  },
  {
   "cell_type": "code",
   "execution_count": 46,
   "id": "75e24148",
   "metadata": {},
   "outputs": [
    {
     "data": {
      "text/plain": [
       "2.266629735188669"
      ]
     },
     "execution_count": 46,
     "metadata": {},
     "output_type": "execute_result"
    }
   ],
   "source": [
    "# Calculating Root Mean Square Percentage Error\n",
    "rmspe = (np.sqrt(np.mean(np.square((y_test - predictions) / y_test)))) *100 \n",
    "\n",
    "rmspe"
   ]
  },
  {
   "cell_type": "code",
   "execution_count": 47,
   "id": "636650e6",
   "metadata": {},
   "outputs": [
    {
     "data": {
      "text/plain": [
       "56.24314791102591"
      ]
     },
     "execution_count": 47,
     "metadata": {},
     "output_type": "execute_result"
    }
   ],
   "source": [
    "#Calculating Mean Absolute Error \n",
    "MAE = abs(np.mean((y_test)-(predictions)))\n",
    "\n",
    "MAE"
   ]
  },
  {
   "cell_type": "markdown",
   "id": "408693f0",
   "metadata": {},
   "source": [
    "# Visualisation of Output"
   ]
  },
  {
   "cell_type": "code",
   "execution_count": 48,
   "id": "2ed6eacd",
   "metadata": {},
   "outputs": [],
   "source": [
    "#Plotting the Data\n",
    "\n",
    "train = data[:training_data_len]\n",
    "valid = data[training_data_len:]\n",
    "valid[\"Predictions\"] = predictions\n",
    "\n"
   ]
  },
  {
   "cell_type": "code",
   "execution_count": 49,
   "id": "10dbf1ec",
   "metadata": {},
   "outputs": [
    {
     "data": {
      "text/html": [
       "<div>\n",
       "<style scoped>\n",
       "    .dataframe tbody tr th:only-of-type {\n",
       "        vertical-align: middle;\n",
       "    }\n",
       "\n",
       "    .dataframe tbody tr th {\n",
       "        vertical-align: top;\n",
       "    }\n",
       "\n",
       "    .dataframe thead th {\n",
       "        text-align: right;\n",
       "    }\n",
       "</style>\n",
       "<table border=\"1\" class=\"dataframe\">\n",
       "  <thead>\n",
       "    <tr style=\"text-align: right;\">\n",
       "      <th></th>\n",
       "      <th>Close</th>\n",
       "      <th>Predictions</th>\n",
       "    </tr>\n",
       "    <tr>\n",
       "      <th>Date</th>\n",
       "      <th></th>\n",
       "      <th></th>\n",
       "    </tr>\n",
       "  </thead>\n",
       "  <tbody>\n",
       "    <tr>\n",
       "      <th>2016-05-05</th>\n",
       "      <td>3836.850098</td>\n",
       "      <td>3847.679199</td>\n",
       "    </tr>\n",
       "    <tr>\n",
       "      <th>2016-05-06</th>\n",
       "      <td>3818.949951</td>\n",
       "      <td>3878.655029</td>\n",
       "    </tr>\n",
       "    <tr>\n",
       "      <th>2016-05-09</th>\n",
       "      <td>3846.500000</td>\n",
       "      <td>3853.199219</td>\n",
       "    </tr>\n",
       "    <tr>\n",
       "      <th>2016-05-10</th>\n",
       "      <td>3844.800049</td>\n",
       "      <td>3888.314209</td>\n",
       "    </tr>\n",
       "    <tr>\n",
       "      <th>2016-05-11</th>\n",
       "      <td>3890.050049</td>\n",
       "      <td>3881.301270</td>\n",
       "    </tr>\n",
       "    <tr>\n",
       "      <th>...</th>\n",
       "      <td>...</td>\n",
       "      <td>...</td>\n",
       "    </tr>\n",
       "    <tr>\n",
       "      <th>2021-11-02</th>\n",
       "      <td>7791.750000</td>\n",
       "      <td>7577.576172</td>\n",
       "    </tr>\n",
       "    <tr>\n",
       "      <th>2021-11-03</th>\n",
       "      <td>7734.250000</td>\n",
       "      <td>7758.456055</td>\n",
       "    </tr>\n",
       "    <tr>\n",
       "      <th>2021-11-04</th>\n",
       "      <td>7747.399902</td>\n",
       "      <td>7590.552246</td>\n",
       "    </tr>\n",
       "    <tr>\n",
       "      <th>2021-11-08</th>\n",
       "      <td>7684.600098</td>\n",
       "      <td>7671.278320</td>\n",
       "    </tr>\n",
       "    <tr>\n",
       "      <th>2021-11-09</th>\n",
       "      <td>7577.549805</td>\n",
       "      <td>7569.619141</td>\n",
       "    </tr>\n",
       "  </tbody>\n",
       "</table>\n",
       "<p>1361 rows × 2 columns</p>\n",
       "</div>"
      ],
      "text/plain": [
       "                  Close  Predictions\n",
       "Date                                \n",
       "2016-05-05  3836.850098  3847.679199\n",
       "2016-05-06  3818.949951  3878.655029\n",
       "2016-05-09  3846.500000  3853.199219\n",
       "2016-05-10  3844.800049  3888.314209\n",
       "2016-05-11  3890.050049  3881.301270\n",
       "...                 ...          ...\n",
       "2021-11-02  7791.750000  7577.576172\n",
       "2021-11-03  7734.250000  7758.456055\n",
       "2021-11-04  7747.399902  7590.552246\n",
       "2021-11-08  7684.600098  7671.278320\n",
       "2021-11-09  7577.549805  7569.619141\n",
       "\n",
       "[1361 rows x 2 columns]"
      ]
     },
     "execution_count": 49,
     "metadata": {},
     "output_type": "execute_result"
    }
   ],
   "source": [
    "valid"
   ]
  },
  {
   "cell_type": "code",
   "execution_count": 50,
   "id": "9dbcb62b",
   "metadata": {},
   "outputs": [
    {
     "data": {
      "image/png": "[encoded data removed]",
      "text/plain": [
       "<Figure size 1152x576 with 1 Axes>"
      ]
     },
     "metadata": {
      "needs_background": "light"
     },
     "output_type": "display_data"
    }
   ],
   "source": [
    "#Visualising the entire Data\n",
    "\n",
    "plt.figure(figsize=(16,8))\n",
    "plt.title(\"Predictions Model\", fontsize = 20)\n",
    "plt.xlabel(\"Date\" , fontsize=18)\n",
    "plt.ylabel(\"Close Price in Rupees\" , fontsize = 18)\n",
    "plt.plot(train[\"Close\"])\n",
    "plt.plot(valid[[\"Close\",\"Predictions\"]])\n",
    "plt.legend([\"Train\",\"Test\",\"Predictions\"] ,loc=\"upper left\")\n",
    "plt.show()"
   ]
  },
  {
   "cell_type": "code",
   "execution_count": 51,
   "id": "f4734fa6",
   "metadata": {},
   "outputs": [
    {
     "data": {
      "image/png": "[encoded data removed]",
      "text/plain": [
       "<Figure size 1152x576 with 1 Axes>"
      ]
     },
     "metadata": {
      "needs_background": "light"
     },
     "output_type": "display_data"
    }
   ],
   "source": [
    "# Visualising the Validation Dataset Predictions \n",
    "\n",
    "plt.figure(figsize=(16,8))\n",
    "plt.title(\"Validation Data Predictions\", fontsize = 20)\n",
    "plt.xlabel(\"Date\")\n",
    "plt.ylabel(\"Close Price in Rupees\" , fontsize = 18)\n",
    "plt.plot(valid[[\"Close\",\"Predictions\"]])\n",
    "plt.legend([\"Test\",\"Predictions\"] ,loc=\"upper left\")\n",
    "plt.show()"
   ]
  },
  {
   "cell_type": "markdown",
   "id": "bb6c76c2",
   "metadata": {},
   "source": [
    "# Predicting Future Values"
   ]
  },
  {
   "cell_type": "code",
   "execution_count": 52,
   "id": "12f42d33",
   "metadata": {},
   "outputs": [
    {
     "data": {
      "text/plain": [
       "1461"
      ]
     },
     "execution_count": 52,
     "metadata": {},
     "output_type": "execute_result"
    }
   ],
   "source": [
    "len(test_data)"
   ]
  },
  {
   "cell_type": "code",
   "execution_count": 53,
   "id": "a0ac18c4",
   "metadata": {},
   "outputs": [
    {
     "data": {
      "text/plain": [
       "(1, 100)"
      ]
     },
     "execution_count": 53,
     "metadata": {},
     "output_type": "execute_result"
    }
   ],
   "source": [
    "x_input=test_data[1361:].reshape(1,-1)\n",
    "x_input.shape\n"
   ]
  },
  {
   "cell_type": "code",
   "execution_count": 54,
   "id": "1cb47e9d",
   "metadata": {},
   "outputs": [
    {
     "data": {
      "text/plain": [
       "[0.7188500239426153,\n",
       " 0.7038626789880552,\n",
       " 0.7028283549652163,\n",
       " 0.6966792783766883,\n",
       " 0.7344838214114496,\n",
       " 0.7517880926192382,\n",
       " 0.7615883127356367,\n",
       " 0.7741605010639248,\n",
       " 0.7687044418434497,\n",
       " 0.7574561680950768,\n",
       " 0.7603936381835638,\n",
       " 0.7674787577400102,\n",
       " 0.766387566168666,\n",
       " 0.7690354457000766,\n",
       " 0.760295407707088,\n",
       " 0.7535153834316852,\n",
       " 0.7485299719472956,\n",
       " 0.7510640658032509,\n",
       " 0.7556564544317125,\n",
       " 0.751545016440928,\n",
       " 0.7408294094279416,\n",
       " 0.7387866194828349,\n",
       " 0.738429757525637,\n",
       " 0.7241560860104603,\n",
       " 0.7311016121624604,\n",
       " 0.7380160279165014,\n",
       " 0.7374264935291771,\n",
       " 0.7314222122709035,\n",
       " 0.7318825066303852,\n",
       " 0.7241043698093184,\n",
       " 0.7063605613668358,\n",
       " 0.7047263495800687,\n",
       " 0.7149920155067447,\n",
       " 0.727657282860713,\n",
       " 0.7176760560403177,\n",
       " 0.7098824144952837,\n",
       " 0.7174588379625785,\n",
       " 0.715488470868389,\n",
       " 0.707234585335453,\n",
       " 0.7092566686307846,\n",
       " 0.7082740608090877,\n",
       " 0.707260443436024,\n",
       " 0.6891235616626011,\n",
       " 0.6951795085435719,\n",
       " 0.6904940409928626,\n",
       " 0.6916110906647778,\n",
       " 0.6890252806076805,\n",
       " 0.6866773953815302,\n",
       " 0.6771874724719834,\n",
       " 0.6665494398641424,\n",
       " 0.6682302164012556,\n",
       " 0.6860257409414477,\n",
       " 0.6911146354065659,\n",
       " 0.6847845521140411,\n",
       " 0.6856120113323122,\n",
       " 0.6928729862453921,\n",
       " 0.6911973610556422,\n",
       " 0.6943261912247298,\n",
       " 0.6844070339820804,\n",
       " 0.686579114430042,\n",
       " 0.6939693797425444,\n",
       " 0.6961156020899351,\n",
       " 0.6976205233738472,\n",
       " 0.699890884773297,\n",
       " 0.7085274903640016,\n",
       " 0.7019026146920248,\n",
       " 0.6839674462723738,\n",
       " 0.6895527959957038,\n",
       " 0.6911767048808793,\n",
       " 0.7020939747726254,\n",
       " 0.7487626948524344,\n",
       " 0.7508727058260827,\n",
       " 0.74675606590949,\n",
       " 0.7419981754044311,\n",
       " 0.7238199307030376,\n",
       " 0.7246473899213088,\n",
       " 0.7337442898714953,\n",
       " 0.7276417781367458,\n",
       " 0.7579733301064963,\n",
       " 0.7515088049637532,\n",
       " 0.7795182793329117,\n",
       " 0.7787942525169246,\n",
       " 0.7569027946064826,\n",
       " 0.75842842254017,\n",
       " 0.774987960282196,\n",
       " 0.7748483164027372,\n",
       " 0.7681355636308883,\n",
       " 0.766532361395488,\n",
       " 0.7493263711391877,\n",
       " 0.7339873661532378,\n",
       " 0.7377885069371707,\n",
       " 0.7438806652953164,\n",
       " 0.7452718512753531,\n",
       " 0.7569286527070536,\n",
       " 0.7707006670382103,\n",
       " 0.7889254764899499,\n",
       " 0.7829781133586263,\n",
       " 0.7843382393122841,\n",
       " 0.7778427047216067,\n",
       " 0.7667702357514224]"
      ]
     },
     "execution_count": 54,
     "metadata": {},
     "output_type": "execute_result"
    }
   ],
   "source": [
    "temp_input=list(x_input)\n",
    "temp_input=temp_input[0].tolist()\n",
    "\n",
    "temp_input\n",
    "\n"
   ]
  },
  {
   "cell_type": "code",
   "execution_count": 55,
   "id": "d9ca87c4",
   "metadata": {},
   "outputs": [
    {
     "name": "stdout",
     "output_type": "stream",
     "text": [
      "[0.7552128]\n",
      "101\n",
      "1 day input [0.70386268 0.70282835 0.69667928 0.73448382 0.75178809 0.76158831\n",
      " 0.7741605  0.76870444 0.75745617 0.76039364 0.76747876 0.76638757\n",
      " 0.76903545 0.76029541 0.75351538 0.74852997 0.75106407 0.75565645\n",
      " 0.75154502 0.74082941 0.73878662 0.73842976 0.72415609 0.73110161\n",
      " 0.73801603 0.73742649 0.73142221 0.73188251 0.72410437 0.70636056\n",
      " 0.70472635 0.71499202 0.72765728 0.71767606 0.70988241 0.71745884\n",
      " 0.71548847 0.70723459 0.70925667 0.70827406 0.70726044 0.68912356\n",
      " 0.69517951 0.69049404 0.69161109 0.68902528 0.6866774  0.67718747\n",
      " 0.66654944 0.66823022 0.68602574 0.69111464 0.68478455 0.68561201\n",
      " 0.69287299 0.69119736 0.69432619 0.68440703 0.68657911 0.69396938\n",
      " 0.6961156  0.69762052 0.69989088 0.70852749 0.70190261 0.68396745\n",
      " 0.6895528  0.6911767  0.70209397 0.74876269 0.75087271 0.74675607\n",
      " 0.74199818 0.72381993 0.72464739 0.73374429 0.72764178 0.75797333\n",
      " 0.7515088  0.77951828 0.77879425 0.75690279 0.75842842 0.77498796\n",
      " 0.77484832 0.76813556 0.76653236 0.74932637 0.73398737 0.73778851\n",
      " 0.74388067 0.74527185 0.75692865 0.77070067 0.78892548 0.78297811\n",
      " 0.78433824 0.7778427  0.76677024 0.75521278]\n",
      "1 day output [[0.74502826]]\n",
      "2 day input [0.70282835 0.69667928 0.73448382 0.75178809 0.76158831 0.7741605\n",
      " 0.76870444 0.75745617 0.76039364 0.76747876 0.76638757 0.76903545\n",
      " 0.76029541 0.75351538 0.74852997 0.75106407 0.75565645 0.75154502\n",
      " 0.74082941 0.73878662 0.73842976 0.72415609 0.73110161 0.73801603\n",
      " 0.73742649 0.73142221 0.73188251 0.72410437 0.70636056 0.70472635\n",
      " 0.71499202 0.72765728 0.71767606 0.70988241 0.71745884 0.71548847\n",
      " 0.70723459 0.70925667 0.70827406 0.70726044 0.68912356 0.69517951\n",
      " 0.69049404 0.69161109 0.68902528 0.6866774  0.67718747 0.66654944\n",
      " 0.66823022 0.68602574 0.69111464 0.68478455 0.68561201 0.69287299\n",
      " 0.69119736 0.69432619 0.68440703 0.68657911 0.69396938 0.6961156\n",
      " 0.69762052 0.69989088 0.70852749 0.70190261 0.68396745 0.6895528\n",
      " 0.6911767  0.70209397 0.74876269 0.75087271 0.74675607 0.74199818\n",
      " 0.72381993 0.72464739 0.73374429 0.72764178 0.75797333 0.7515088\n",
      " 0.77951828 0.77879425 0.75690279 0.75842842 0.77498796 0.77484832\n",
      " 0.76813556 0.76653236 0.74932637 0.73398737 0.73778851 0.74388067\n",
      " 0.74527185 0.75692865 0.77070067 0.78892548 0.78297811 0.78433824\n",
      " 0.7778427  0.76677024 0.75521278 0.74502826]\n",
      "2 day output [[0.73636115]]\n",
      "3 day input [0.69667928 0.73448382 0.75178809 0.76158831 0.7741605  0.76870444\n",
      " 0.75745617 0.76039364 0.76747876 0.76638757 0.76903545 0.76029541\n",
      " 0.75351538 0.74852997 0.75106407 0.75565645 0.75154502 0.74082941\n",
      " 0.73878662 0.73842976 0.72415609 0.73110161 0.73801603 0.73742649\n",
      " 0.73142221 0.73188251 0.72410437 0.70636056 0.70472635 0.71499202\n",
      " 0.72765728 0.71767606 0.70988241 0.71745884 0.71548847 0.70723459\n",
      " 0.70925667 0.70827406 0.70726044 0.68912356 0.69517951 0.69049404\n",
      " 0.69161109 0.68902528 0.6866774  0.67718747 0.66654944 0.66823022\n",
      " 0.68602574 0.69111464 0.68478455 0.68561201 0.69287299 0.69119736\n",
      " 0.69432619 0.68440703 0.68657911 0.69396938 0.6961156  0.69762052\n",
      " 0.69989088 0.70852749 0.70190261 0.68396745 0.6895528  0.6911767\n",
      " 0.70209397 0.74876269 0.75087271 0.74675607 0.74199818 0.72381993\n",
      " 0.72464739 0.73374429 0.72764178 0.75797333 0.7515088  0.77951828\n",
      " 0.77879425 0.75690279 0.75842842 0.77498796 0.77484832 0.76813556\n",
      " 0.76653236 0.74932637 0.73398737 0.73778851 0.74388067 0.74527185\n",
      " 0.75692865 0.77070067 0.78892548 0.78297811 0.78433824 0.7778427\n",
      " 0.76677024 0.75521278 0.74502826 0.73636115]\n",
      "3 day output [[0.7287452]]\n",
      "4 day input [0.73448382 0.75178809 0.76158831 0.7741605  0.76870444 0.75745617\n",
      " 0.76039364 0.76747876 0.76638757 0.76903545 0.76029541 0.75351538\n",
      " 0.74852997 0.75106407 0.75565645 0.75154502 0.74082941 0.73878662\n",
      " 0.73842976 0.72415609 0.73110161 0.73801603 0.73742649 0.73142221\n",
      " 0.73188251 0.72410437 0.70636056 0.70472635 0.71499202 0.72765728\n",
      " 0.71767606 0.70988241 0.71745884 0.71548847 0.70723459 0.70925667\n",
      " 0.70827406 0.70726044 0.68912356 0.69517951 0.69049404 0.69161109\n",
      " 0.68902528 0.6866774  0.67718747 0.66654944 0.66823022 0.68602574\n",
      " 0.69111464 0.68478455 0.68561201 0.69287299 0.69119736 0.69432619\n",
      " 0.68440703 0.68657911 0.69396938 0.6961156  0.69762052 0.69989088\n",
      " 0.70852749 0.70190261 0.68396745 0.6895528  0.6911767  0.70209397\n",
      " 0.74876269 0.75087271 0.74675607 0.74199818 0.72381993 0.72464739\n",
      " 0.73374429 0.72764178 0.75797333 0.7515088  0.77951828 0.77879425\n",
      " 0.75690279 0.75842842 0.77498796 0.77484832 0.76813556 0.76653236\n",
      " 0.74932637 0.73398737 0.73778851 0.74388067 0.74527185 0.75692865\n",
      " 0.77070067 0.78892548 0.78297811 0.78433824 0.7778427  0.76677024\n",
      " 0.75521278 0.74502826 0.73636115 0.72874522]\n",
      "4 day output [[0.72173977]]\n",
      "[[0.7552127838134766], [0.7450282573699951], [0.7363611459732056], [0.7287452220916748], [0.7217397689819336]]\n"
     ]
    }
   ],
   "source": [
    "#Prediction  for next 5 days\n",
    "\n",
    "from numpy import array\n",
    "\n",
    "lst_output=[]\n",
    "n_steps=100\n",
    "i=0\n",
    "while(i<5):\n",
    "    \n",
    "    if(len(temp_input)>100):\n",
    "        \n",
    "        x_input=np.array(temp_input[1:])\n",
    "        print(\"{} day input {}\".format(i,x_input))\n",
    "        x_input=x_input.reshape(1,-1)\n",
    "        x_input = x_input.reshape((1, n_steps, 1))\n",
    "    \n",
    "        yhat = model.predict(x_input, verbose=0)\n",
    "        print(\"{} day output {}\".format(i,yhat))\n",
    "        temp_input.extend(yhat[0].tolist())\n",
    "        temp_input=temp_input[1:]\n",
    "    \n",
    "        lst_output.extend(yhat.tolist())\n",
    "        i=i+1\n",
    "    else:\n",
    "        x_input = x_input.reshape((1, n_steps,1))\n",
    "        yhat = model.predict(x_input, verbose=0)\n",
    "        print(yhat[0])\n",
    "        temp_input.extend(yhat[0].tolist())\n",
    "        print(len(temp_input))\n",
    "        lst_output.extend(yhat.tolist())\n",
    "        i=i+1\n",
    "    \n",
    "\n",
    "print(lst_output)"
   ]
  },
  {
   "cell_type": "code",
   "execution_count": 56,
   "id": "954ddd18",
   "metadata": {},
   "outputs": [
    {
     "data": {
      "text/plain": [
       "array([[7465.81062383],\n",
       "       [7367.34509254],\n",
       "       [7283.55015782],\n",
       "       [7209.91826188],\n",
       "       [7142.18848906]])"
      ]
     },
     "execution_count": 56,
     "metadata": {},
     "output_type": "execute_result"
    }
   ],
   "source": [
    "lst_output = scaler.inverse_transform(lst_output)\n",
    "\n",
    "lst_output"
   ]
  }
 ],
 "metadata": {
  "kernelspec": {
   "display_name": "Python 3 (ipykernel)",
   "language": "python",
   "name": "python3"
  },
  "language_info": {
   "codemirror_mode": {
    "name": "ipython",
    "version": 3
   },
   "file_extension": ".py",
   "mimetype": "text/x-python",
   "name": "python",
   "nbconvert_exporter": "python",
   "pygments_lexer": "ipython3",
   "version": "3.9.4"
  }
 },
 "nbformat": 4,
 "nbformat_minor": 5
}
